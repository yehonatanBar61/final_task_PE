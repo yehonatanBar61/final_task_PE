{
 "cells": [
  {
   "cell_type": "code",
   "execution_count": 17,
   "id": "acb060c2-4f40-4909-be2d-76b64affcdbc",
   "metadata": {},
   "outputs": [
    {
     "data": {
      "text/html": [
       "<div style=\"text-align:center;\"><img src=\"documents/pefile2.png\" /></div>"
      ],
      "text/plain": [
       "<IPython.core.display.HTML object>"
      ]
     },
     "metadata": {},
     "output_type": "display_data"
    }
   ],
   "source": [
    "from IPython.display import display, HTML\n",
    "\n",
    "# Specify the path to your image file\n",
    "image_path = 'documents/pefile2.png'\n",
    "\n",
    "# Display the image with center alignment\n",
    "display(HTML(f'<div style=\"text-align:center;\"><img src=\"{image_path}\" /></div>'))"
   ]
  },
  {
   "cell_type": "code",
   "execution_count": 1,
   "id": "08f10c3f-084f-40a1-9956-3f6d676834b4",
   "metadata": {},
   "outputs": [],
   "source": [
    "import os\n",
    "import pandas\n",
    "import numpy\n",
    "import pickle\n",
    "import pefile\n",
    "import sklearn.ensemble as ek\n",
    "from sklearn.feature_selection import SelectFromModel\n",
    "import joblib\n",
    "from sklearn.tree import DecisionTreeClassifier\n",
    "from sklearn.metrics import confusion_matrix\n",
    "from sklearn import svm\n",
    "import sklearn.metrics as metrics"
   ]
  },
  {
   "cell_type": "code",
   "execution_count": 2,
   "id": "90b69dfc-7770-41aa-a4c9-a2019bf2f043",
   "metadata": {},
   "outputs": [],
   "source": [
    "import pandas as pd\n",
    "dataset = pd.read_csv('data.csv', sep='|')"
   ]
  },
  {
   "cell_type": "code",
   "execution_count": 2,
   "id": "0297a0c6-85b2-4dc5-8a23-6f89ae629e30",
   "metadata": {},
   "outputs": [
    {
     "data": {
      "text/html": [
       "<div>\n",
       "<style scoped>\n",
       "    .dataframe tbody tr th:only-of-type {\n",
       "        vertical-align: middle;\n",
       "    }\n",
       "\n",
       "    .dataframe tbody tr th {\n",
       "        vertical-align: top;\n",
       "    }\n",
       "\n",
       "    .dataframe thead th {\n",
       "        text-align: right;\n",
       "    }\n",
       "</style>\n",
       "<table border=\"1\" class=\"dataframe\">\n",
       "  <thead>\n",
       "    <tr style=\"text-align: right;\">\n",
       "      <th></th>\n",
       "      <th>Name</th>\n",
       "      <th>md5</th>\n",
       "      <th>Machine</th>\n",
       "      <th>SizeOfOptionalHeader</th>\n",
       "      <th>Characteristics</th>\n",
       "      <th>MajorLinkerVersion</th>\n",
       "      <th>MinorLinkerVersion</th>\n",
       "      <th>SizeOfCode</th>\n",
       "      <th>SizeOfInitializedData</th>\n",
       "      <th>SizeOfUninitializedData</th>\n",
       "      <th>...</th>\n",
       "      <th>ResourcesNb</th>\n",
       "      <th>ResourcesMeanEntropy</th>\n",
       "      <th>ResourcesMinEntropy</th>\n",
       "      <th>ResourcesMaxEntropy</th>\n",
       "      <th>ResourcesMeanSize</th>\n",
       "      <th>ResourcesMinSize</th>\n",
       "      <th>ResourcesMaxSize</th>\n",
       "      <th>LoadConfigurationSize</th>\n",
       "      <th>VersionInformationSize</th>\n",
       "      <th>legitimate</th>\n",
       "    </tr>\n",
       "  </thead>\n",
       "  <tbody>\n",
       "    <tr>\n",
       "      <th>0</th>\n",
       "      <td>memtest.exe</td>\n",
       "      <td>631ea355665f28d4707448e442fbf5b8</td>\n",
       "      <td>332</td>\n",
       "      <td>224</td>\n",
       "      <td>258</td>\n",
       "      <td>9</td>\n",
       "      <td>0</td>\n",
       "      <td>361984</td>\n",
       "      <td>115712</td>\n",
       "      <td>0</td>\n",
       "      <td>...</td>\n",
       "      <td>4</td>\n",
       "      <td>3.262823</td>\n",
       "      <td>2.568844</td>\n",
       "      <td>3.537939</td>\n",
       "      <td>8797.000000</td>\n",
       "      <td>216</td>\n",
       "      <td>18032</td>\n",
       "      <td>0</td>\n",
       "      <td>16</td>\n",
       "      <td>1</td>\n",
       "    </tr>\n",
       "    <tr>\n",
       "      <th>1</th>\n",
       "      <td>ose.exe</td>\n",
       "      <td>9d10f99a6712e28f8acd5641e3a7ea6b</td>\n",
       "      <td>332</td>\n",
       "      <td>224</td>\n",
       "      <td>3330</td>\n",
       "      <td>9</td>\n",
       "      <td>0</td>\n",
       "      <td>130560</td>\n",
       "      <td>19968</td>\n",
       "      <td>0</td>\n",
       "      <td>...</td>\n",
       "      <td>2</td>\n",
       "      <td>4.250461</td>\n",
       "      <td>3.420744</td>\n",
       "      <td>5.080177</td>\n",
       "      <td>837.000000</td>\n",
       "      <td>518</td>\n",
       "      <td>1156</td>\n",
       "      <td>72</td>\n",
       "      <td>18</td>\n",
       "      <td>1</td>\n",
       "    </tr>\n",
       "    <tr>\n",
       "      <th>2</th>\n",
       "      <td>setup.exe</td>\n",
       "      <td>4d92f518527353c0db88a70fddcfd390</td>\n",
       "      <td>332</td>\n",
       "      <td>224</td>\n",
       "      <td>3330</td>\n",
       "      <td>9</td>\n",
       "      <td>0</td>\n",
       "      <td>517120</td>\n",
       "      <td>621568</td>\n",
       "      <td>0</td>\n",
       "      <td>...</td>\n",
       "      <td>11</td>\n",
       "      <td>4.426324</td>\n",
       "      <td>2.846449</td>\n",
       "      <td>5.271813</td>\n",
       "      <td>31102.272727</td>\n",
       "      <td>104</td>\n",
       "      <td>270376</td>\n",
       "      <td>72</td>\n",
       "      <td>18</td>\n",
       "      <td>1</td>\n",
       "    </tr>\n",
       "    <tr>\n",
       "      <th>3</th>\n",
       "      <td>DW20.EXE</td>\n",
       "      <td>a41e524f8d45f0074fd07805ff0c9b12</td>\n",
       "      <td>332</td>\n",
       "      <td>224</td>\n",
       "      <td>258</td>\n",
       "      <td>9</td>\n",
       "      <td>0</td>\n",
       "      <td>585728</td>\n",
       "      <td>369152</td>\n",
       "      <td>0</td>\n",
       "      <td>...</td>\n",
       "      <td>10</td>\n",
       "      <td>4.364291</td>\n",
       "      <td>2.669314</td>\n",
       "      <td>6.400720</td>\n",
       "      <td>1457.000000</td>\n",
       "      <td>90</td>\n",
       "      <td>4264</td>\n",
       "      <td>72</td>\n",
       "      <td>18</td>\n",
       "      <td>1</td>\n",
       "    </tr>\n",
       "    <tr>\n",
       "      <th>4</th>\n",
       "      <td>dwtrig20.exe</td>\n",
       "      <td>c87e561258f2f8650cef999bf643a731</td>\n",
       "      <td>332</td>\n",
       "      <td>224</td>\n",
       "      <td>258</td>\n",
       "      <td>9</td>\n",
       "      <td>0</td>\n",
       "      <td>294912</td>\n",
       "      <td>247296</td>\n",
       "      <td>0</td>\n",
       "      <td>...</td>\n",
       "      <td>2</td>\n",
       "      <td>4.306100</td>\n",
       "      <td>3.421598</td>\n",
       "      <td>5.190603</td>\n",
       "      <td>1074.500000</td>\n",
       "      <td>849</td>\n",
       "      <td>1300</td>\n",
       "      <td>72</td>\n",
       "      <td>18</td>\n",
       "      <td>1</td>\n",
       "    </tr>\n",
       "  </tbody>\n",
       "</table>\n",
       "<p>5 rows × 57 columns</p>\n",
       "</div>"
      ],
      "text/plain": [
       "           Name                               md5  Machine   \n",
       "0   memtest.exe  631ea355665f28d4707448e442fbf5b8      332  \\\n",
       "1       ose.exe  9d10f99a6712e28f8acd5641e3a7ea6b      332   \n",
       "2     setup.exe  4d92f518527353c0db88a70fddcfd390      332   \n",
       "3      DW20.EXE  a41e524f8d45f0074fd07805ff0c9b12      332   \n",
       "4  dwtrig20.exe  c87e561258f2f8650cef999bf643a731      332   \n",
       "\n",
       "   SizeOfOptionalHeader  Characteristics  MajorLinkerVersion   \n",
       "0                   224              258                   9  \\\n",
       "1                   224             3330                   9   \n",
       "2                   224             3330                   9   \n",
       "3                   224              258                   9   \n",
       "4                   224              258                   9   \n",
       "\n",
       "   MinorLinkerVersion  SizeOfCode  SizeOfInitializedData   \n",
       "0                   0      361984                 115712  \\\n",
       "1                   0      130560                  19968   \n",
       "2                   0      517120                 621568   \n",
       "3                   0      585728                 369152   \n",
       "4                   0      294912                 247296   \n",
       "\n",
       "   SizeOfUninitializedData  ...  ResourcesNb  ResourcesMeanEntropy   \n",
       "0                        0  ...            4              3.262823  \\\n",
       "1                        0  ...            2              4.250461   \n",
       "2                        0  ...           11              4.426324   \n",
       "3                        0  ...           10              4.364291   \n",
       "4                        0  ...            2              4.306100   \n",
       "\n",
       "   ResourcesMinEntropy  ResourcesMaxEntropy  ResourcesMeanSize   \n",
       "0             2.568844             3.537939        8797.000000  \\\n",
       "1             3.420744             5.080177         837.000000   \n",
       "2             2.846449             5.271813       31102.272727   \n",
       "3             2.669314             6.400720        1457.000000   \n",
       "4             3.421598             5.190603        1074.500000   \n",
       "\n",
       "   ResourcesMinSize  ResourcesMaxSize  LoadConfigurationSize   \n",
       "0               216             18032                      0  \\\n",
       "1               518              1156                     72   \n",
       "2               104            270376                     72   \n",
       "3                90              4264                     72   \n",
       "4               849              1300                     72   \n",
       "\n",
       "   VersionInformationSize  legitimate  \n",
       "0                      16           1  \n",
       "1                      18           1  \n",
       "2                      18           1  \n",
       "3                      18           1  \n",
       "4                      18           1  \n",
       "\n",
       "[5 rows x 57 columns]"
      ]
     },
     "execution_count": 2,
     "metadata": {},
     "output_type": "execute_result"
    }
   ],
   "source": [
    "dataset.head()"
   ]
  },
  {
   "cell_type": "code",
   "execution_count": 3,
   "id": "56bb68ad-eb4c-4d7b-b817-95a810e8b675",
   "metadata": {},
   "outputs": [
    {
     "data": {
      "text/plain": [
       "Index(['Name', 'md5', 'Machine', 'SizeOfOptionalHeader', 'Characteristics',\n",
       "       'MajorLinkerVersion', 'MinorLinkerVersion', 'SizeOfCode',\n",
       "       'SizeOfInitializedData', 'SizeOfUninitializedData',\n",
       "       'AddressOfEntryPoint', 'BaseOfCode', 'BaseOfData', 'ImageBase',\n",
       "       'SectionAlignment', 'FileAlignment', 'MajorOperatingSystemVersion',\n",
       "       'MinorOperatingSystemVersion', 'MajorImageVersion', 'MinorImageVersion',\n",
       "       'MajorSubsystemVersion', 'MinorSubsystemVersion', 'SizeOfImage',\n",
       "       'SizeOfHeaders', 'CheckSum', 'Subsystem', 'DllCharacteristics',\n",
       "       'SizeOfStackReserve', 'SizeOfStackCommit', 'SizeOfHeapReserve',\n",
       "       'SizeOfHeapCommit', 'LoaderFlags', 'NumberOfRvaAndSizes', 'SectionsNb',\n",
       "       'SectionsMeanEntropy', 'SectionsMinEntropy', 'SectionsMaxEntropy',\n",
       "       'SectionsMeanRawsize', 'SectionsMinRawsize', 'SectionMaxRawsize',\n",
       "       'SectionsMeanVirtualsize', 'SectionsMinVirtualsize',\n",
       "       'SectionMaxVirtualsize', 'ImportsNbDLL', 'ImportsNb',\n",
       "       'ImportsNbOrdinal', 'ExportNb', 'ResourcesNb', 'ResourcesMeanEntropy',\n",
       "       'ResourcesMinEntropy', 'ResourcesMaxEntropy', 'ResourcesMeanSize',\n",
       "       'ResourcesMinSize', 'ResourcesMaxSize', 'LoadConfigurationSize',\n",
       "       'VersionInformationSize', 'legitimate'],\n",
       "      dtype='object')"
      ]
     },
     "execution_count": 3,
     "metadata": {},
     "output_type": "execute_result"
    }
   ],
   "source": [
    "dataset.columns    # name of the columns"
   ]
  },
  {
   "cell_type": "code",
   "execution_count": 19,
   "id": "425f80db-356b-43c0-8cc3-675bc8c61c85",
   "metadata": {
    "scrolled": true
   },
   "outputs": [
    {
     "data": {
      "image/png": "[encoded data removed]",
      "text/plain": [
       "<Figure size 640x480 with 1 Axes>"
      ]
     },
     "metadata": {},
     "output_type": "display_data"
    }
   ],
   "source": [
    "import matplotlib.pyplot as plt\n",
    "\n",
    "dataset[\"legitimate\"].value_counts().plot(kind=\"pie\",autopct=\"%1.1f%%\")\n",
    "plt.show()"
   ]
  },
  {
   "cell_type": "code",
   "execution_count": 5,
   "id": "e69e777a-6de7-4481-9db3-8add34c4f369",
   "metadata": {},
   "outputs": [
    {
     "name": "stdout",
     "output_type": "stream",
     "text": [
      "Name                           0\n",
      "md5                            0\n",
      "Machine                        0\n",
      "SizeOfOptionalHeader           0\n",
      "Characteristics                0\n",
      "MajorLinkerVersion             0\n",
      "MinorLinkerVersion             0\n",
      "SizeOfCode                     0\n",
      "SizeOfInitializedData          0\n",
      "SizeOfUninitializedData        0\n",
      "AddressOfEntryPoint            0\n",
      "BaseOfCode                     0\n",
      "BaseOfData                     0\n",
      "ImageBase                      0\n",
      "SectionAlignment               0\n",
      "FileAlignment                  0\n",
      "MajorOperatingSystemVersion    0\n",
      "MinorOperatingSystemVersion    0\n",
      "MajorImageVersion              0\n",
      "MinorImageVersion              0\n",
      "MajorSubsystemVersion          0\n",
      "MinorSubsystemVersion          0\n",
      "SizeOfImage                    0\n",
      "SizeOfHeaders                  0\n",
      "CheckSum                       0\n",
      "Subsystem                      0\n",
      "DllCharacteristics             0\n",
      "SizeOfStackReserve             0\n",
      "SizeOfStackCommit              0\n",
      "SizeOfHeapReserve              0\n",
      "SizeOfHeapCommit               0\n",
      "LoaderFlags                    0\n",
      "NumberOfRvaAndSizes            0\n",
      "SectionsNb                     0\n",
      "SectionsMeanEntropy            0\n",
      "SectionsMinEntropy             0\n",
      "SectionsMaxEntropy             0\n",
      "SectionsMeanRawsize            0\n",
      "SectionsMinRawsize             0\n",
      "SectionMaxRawsize              0\n",
      "SectionsMeanVirtualsize        0\n",
      "SectionsMinVirtualsize         0\n",
      "SectionMaxVirtualsize          0\n",
      "ImportsNbDLL                   0\n",
      "ImportsNb                      0\n",
      "ImportsNbOrdinal               0\n",
      "ExportNb                       0\n",
      "ResourcesNb                    0\n",
      "ResourcesMeanEntropy           0\n",
      "ResourcesMinEntropy            0\n",
      "ResourcesMaxEntropy            0\n",
      "ResourcesMeanSize              0\n",
      "ResourcesMinSize               0\n",
      "ResourcesMaxSize               0\n",
      "LoadConfigurationSize          0\n",
      "VersionInformationSize         0\n",
      "legitimate                     0\n",
      "dtype: int64\n"
     ]
    }
   ],
   "source": [
    "## we see that there is not null values\n",
    "print(dataset.isnull().sum())"
   ]
  },
  {
   "cell_type": "code",
   "execution_count": 20,
   "id": "b146762f-048e-433d-9819-1d9e1580668a",
   "metadata": {},
   "outputs": [],
   "source": [
    "from imblearn.over_sampling import RandomOverSampler\n",
    "import pandas as pd\n",
    "\n",
    "def summarize_feature_counts(legit_dataset, malware_dataset, feature_column):\n",
    "    legit_counts = legit_dataset[feature_column].value_counts()\n",
    "    malware_counts = malware_dataset[feature_column].value_counts()\n",
    "\n",
    "    print(\"Legitimate Dataset -\", feature_column)\n",
    "    print(legit_counts)\n",
    "    print(\"\\nMalware Dataset -\", feature_column)\n",
    "    print(malware_counts)\n",
    "\n",
    "legit = dataset[0:41323].drop(['legitimate'], axis=1)\n",
    "malware = dataset[41323::].drop(['legitimate'], axis=1)"
   ]
  },
  {
   "cell_type": "code",
   "execution_count": 21,
   "id": "17901e5e-023f-48df-9937-479eba45ee45",
   "metadata": {},
   "outputs": [
    {
     "name": "stdout",
     "output_type": "stream",
     "text": [
      "legitimate\n",
      "1    41323\n",
      "Name: count, dtype: int64\n",
      "legitimate\n",
      "0    96724\n",
      "Name: count, dtype: int64\n"
     ]
    }
   ],
   "source": [
    "print(dataset[0:41323]['legitimate'].value_counts())\n",
    "print(dataset[41323::]['legitimate'].value_counts())"
   ]
  },
  {
   "cell_type": "code",
   "execution_count": 22,
   "id": "abf71956-fc7f-4874-bb42-621b6b9ccb26",
   "metadata": {},
   "outputs": [
    {
     "name": "stdout",
     "output_type": "stream",
     "text": [
      "Legitimate Dataset - CheckSum\n",
      "CheckSum\n",
      "0         1883\n",
      "65660        9\n",
      "223642       7\n",
      "72474        4\n",
      "56038        4\n",
      "          ... \n",
      "135664       1\n",
      "189098       1\n",
      "507934       1\n",
      "680293       1\n",
      "121734       1\n",
      "Name: count, Length: 37955, dtype: int64\n",
      "\n",
      "Malware Dataset - CheckSum\n",
      "CheckSum\n",
      "0             16854\n",
      "2018161488      895\n",
      "345524          536\n",
      "301854          488\n",
      "213271          482\n",
      "              ...  \n",
      "509331            1\n",
      "380671            1\n",
      "578124            1\n",
      "525293            1\n",
      "1360499877        1\n",
      "Name: count, Length: 44342, dtype: int64\n"
     ]
    }
   ],
   "source": [
    "summarize_feature_counts(legit, malware, 'CheckSum')"
   ]
  },
  {
   "cell_type": "code",
   "execution_count": 8,
   "id": "13f94cb5-c5ea-495d-8eb7-ce46470cb980",
   "metadata": {},
   "outputs": [],
   "source": [
    "all_results = [] # the list contains different results from different models for comparison purposes"
   ]
  },
  {
   "cell_type": "code",
   "execution_count": 3,
   "id": "6143328f-bd27-4b21-b0bb-0b7d2a4bb904",
   "metadata": {},
   "outputs": [],
   "source": [
    "data = dataset.drop(['Name', 'md5', 'legitimate'], axis = 1).values\n",
    "target = dataset['legitimate'].values"
   ]
  },
  {
   "cell_type": "markdown",
   "id": "c145b94b-7cd2-42c8-89d3-c65ea600635b",
   "metadata": {},
   "source": [
    "# Feature Selection - with ExtraTreesClassifier"
   ]
  },
  {
   "cell_type": "code",
   "execution_count": 4,
   "id": "17a6f95c-8125-43be-a521-803d7690faca",
   "metadata": {},
   "outputs": [
    {
     "name": "stdout",
     "output_type": "stream",
     "text": [
      "number of selected features is 14\n"
     ]
    }
   ],
   "source": [
    "extratrees = ek.ExtraTreesClassifier().fit(data, target)\n",
    "model = SelectFromModel(extratrees, prefit=True)\n",
    "X_new = model.transform(data)\n",
    "nbfeatures = X_new.shape[1]\n",
    "print(\"number of selected features is %s\" % nbfeatures)"
   ]
  },
  {
   "cell_type": "code",
   "execution_count": 5,
   "id": "45c504ae-7b44-49b0-a2c9-749880fd7485",
   "metadata": {},
   "outputs": [],
   "source": [
    "from sklearn.model_selection import train_test_split\n",
    "\n",
    "#splitting the data (70% - training and 30% - testing)\n",
    "X_train_ExtraTreesClassifier, X_test_ExtraTreesClassifier, y_train_ExtraTreesClassifier, y_test_ExtraTreesClassifier = train_test_split(X_new, target, test_size = 0.29)"
   ]
  },
  {
   "cell_type": "markdown",
   "id": "557c7711-3295-4efb-8f6b-3a24eb11218e",
   "metadata": {},
   "source": [
    "# Without feature selection"
   ]
  },
  {
   "cell_type": "code",
   "execution_count": 6,
   "id": "f6da27cf-cc55-4428-ae01-a43aff50b9f6",
   "metadata": {},
   "outputs": [],
   "source": [
    "#splitting the data (70% - training and 30% - testing)\n",
    "X_train, X_test, y_train, y_test = train_test_split(data, target, test_size = 0.29)"
   ]
  },
  {
   "cell_type": "markdown",
   "id": "b9db3196-eb69-4cdb-a8b8-7acba75f77f5",
   "metadata": {},
   "source": [
    "# Feature Selection - with SVC"
   ]
  },
  {
   "cell_type": "code",
   "execution_count": null,
   "id": "1d8f2d2c-8dbe-471d-8513-327b3cf0578d",
   "metadata": {},
   "outputs": [],
   "source": [
    "from sklearn.feature_selection import RFE\n",
    "from sklearn.svm import SVC\n",
    "\n",
    "svc = SVC(kernel=\"linear\")\n",
    "selector = RFE(estimator=svc, n_features_to_select=nbfeatures, step=1)\n",
    "selector = selector.fit(data, target)\n",
    "X_new_svc = selector.transform(data)\n",
    "nbfeatures = X_new_svc.shape[1]\n",
    "\n",
    "print(\"Number of selected features is %s\" % nbfeatures)"
   ]
  },
  {
   "cell_type": "code",
   "execution_count": null,
   "id": "6d874619-b3ac-4c43-a815-9a5de34ddbb2",
   "metadata": {},
   "outputs": [],
   "source": [
    "X_train_svc, X_test_svc, y_train_svc, y_test_svc = train_test_split(X_new_svc, target, test_size = 0.29)"
   ]
  },
  {
   "cell_type": "code",
   "execution_count": 22,
   "id": "8e84f4a2-18ef-40db-98f4-9a6577a257ff",
   "metadata": {},
   "outputs": [
    {
     "name": "stdout",
     "output_type": "stream",
     "text": [
      "Accuracy (RandomForest - ExtraTreesClassifier): 0.9930059449467952\n",
      "Precision (RandomForest - ExtraTreesClassifier): 0.9956202820111095\n",
      "Recall (RandomForest - ExtraTreesClassifier): 0.9944163880788107\n",
      "F1 score (RandomForest - ExtraTreesClassifier): 0.9950179708907156\n",
      "Confusion Matrix:\n",
      "[[27961   157]\n",
      " [  123 11793]]\n"
     ]
    }
   ],
   "source": [
    "from sklearn.ensemble import RandomForestClassifier\n",
    "from sklearn.metrics import accuracy_score, precision_score, recall_score, f1_score\n",
    "import matplotlib.pyplot as plt\n",
    "from sklearn.metrics import confusion_matrix\n",
    "\n",
    "def classify(X_train, X_test, y_train, y_test, name):\n",
    "    # Train a classification model. in the article they used 10 trees\n",
    "    clf = RandomForestClassifier(n_estimators=10)\n",
    "    clf.fit(X_train, y_train)\n",
    "    \n",
    "    # Evaluate the model\n",
    "    y_pred = clf.predict(X_test)\n",
    "    \n",
    "    # Calculate evaluation metrics\n",
    "    accuracy = accuracy_score(y_test, y_pred)\n",
    "    precision = precision_score(y_test, y_pred, pos_label=0)\n",
    "    recall = recall_score(y_test, y_pred, pos_label=0)\n",
    "    f1 = f1_score(y_test, y_pred, pos_label=0)\n",
    "    conf_matrix = confusion_matrix(y_test, y_pred)\n",
    "\n",
    "    # Store results in a tuple\n",
    "    RF_results = [accuracy, precision, recall, f1]\n",
    "    RF_tuple = (\"mode - \" + name, RF_results)\n",
    "\n",
    "    all_results.append(RF_tuple)\n",
    "    \n",
    "    # Print evaluation metrics\n",
    "    print('Accuracy (%s): %s' % (name, RF_results[0]))\n",
    "    print('Precision (%s): %s' % (name, RF_results[1]))\n",
    "    print('Recall (%s): %s' % (name, RF_results[2]))\n",
    "    print('F1 score (%s): %s' % (name, RF_results[3]))\n",
    "\n",
    "    # Compute confusion matrix\n",
    "    conf_matrix = confusion_matrix(y_test, y_pred)\n",
    "    \n",
    "    # Extract TP, TN, FP, FN from confusion matrix\n",
    "    TN = conf_matrix[0, 0]\n",
    "    FP = conf_matrix[0, 1]\n",
    "    FN = conf_matrix[1, 0]\n",
    "    TP = conf_matrix[1, 1]\n",
    "    \n",
    "    # Display the confusion matrix with counts\n",
    "    print(\"Confusion Matrix:\")\n",
    "    print(conf_matrix)\n",
    "\n",
    "    return clf\n",
    "\n",
    "# classify(X_train, X_test, y_train, y_test, \"RandomForest - regular\")\n",
    "clf = classify(X_train_ExtraTreesClassifier, X_test_ExtraTreesClassifier, y_train_ExtraTreesClassifier, y_test_ExtraTreesClassifier, \"RandomForest - ExtraTreesClassifier\")"
   ]
  },
  {
   "cell_type": "code",
   "execution_count": 23,
   "id": "4761894a-29b7-4c9c-ae52-34b875893282",
   "metadata": {},
   "outputs": [
    {
     "data": {
      "text/plain": [
       "['Classifier/classifier.pkl']"
      ]
     },
     "execution_count": 23,
     "metadata": {},
     "output_type": "execute_result"
    }
   ],
   "source": [
    "joblib.dump(clf,'Classifier/classifier.pkl')"
   ]
  },
  {
   "cell_type": "markdown",
   "id": "c82ce2ae-4445-4cf1-9d3c-c42034928ea2",
   "metadata": {},
   "source": [
    "# saving the features for extraction later"
   ]
  },
  {
   "cell_type": "code",
   "execution_count": 10,
   "id": "e29809c1-c941-48a8-b65d-d08274248ff9",
   "metadata": {},
   "outputs": [
    {
     "name": "stdout",
     "output_type": "stream",
     "text": [
      "1. feature DllCharacteristics (0.155439)\n",
      "2. feature Characteristics (0.107305)\n",
      "3. feature Machine (0.090189)\n",
      "4. feature Subsystem (0.079206)\n",
      "5. feature VersionInformationSize (0.064292)\n",
      "6. feature SectionsMaxEntropy (0.056659)\n",
      "7. feature MajorSubsystemVersion (0.054068)\n",
      "8. feature ImageBase (0.046271)\n",
      "9. feature SizeOfOptionalHeader (0.041560)\n",
      "10. feature ResourcesMinEntropy (0.035825)\n",
      "11. feature SizeOfStackReserve (0.028565)\n",
      "12. feature MajorOperatingSystemVersion (0.025421)\n",
      "13. feature ResourcesMaxEntropy (0.024042)\n",
      "14. feature SectionsMeanEntropy (0.019337)\n",
      "['Machine', 'SizeOfOptionalHeader', 'Characteristics', 'MajorLinkerVersion', 'MinorLinkerVersion', 'SizeOfCode', 'SizeOfInitializedData', 'SizeOfUninitializedData', 'AddressOfEntryPoint', 'BaseOfCode', 'BaseOfData', 'ImageBase', 'SectionAlignment', 'FileAlignment']\n"
     ]
    }
   ],
   "source": [
    "features = []\n",
    "\n",
    "# top nbfeatures\n",
    "index = numpy.argsort(extratrees.feature_importances_)[::-1][:nbfeatures]\n",
    "\n",
    "for f in range(nbfeatures):\n",
    "    print(\"%d. feature %s (%f)\" % (f + 1, dataset.columns[2+index[f]], extratrees.feature_importances_[index[f]]))\n",
    "    features.append(dataset.columns[2+f])\n",
    "\n",
    "# Save the features to a pickle file\n",
    "with open('Classifier/features.pkl', 'wb') as f:\n",
    "    pickle.dump(features, f)\n",
    "    \n",
    "print(features)"
   ]
  },
  {
   "cell_type": "code",
   "execution_count": null,
   "id": "c29f7cc2-6e9f-4c0e-8a8e-840b1502a4ea",
   "metadata": {},
   "outputs": [],
   "source": []
  }
 ],
 "metadata": {
  "kernelspec": {
   "display_name": "Python 3 (ipykernel)",
   "language": "python",
   "name": "python3"
  },
  "language_info": {
   "codemirror_mode": {
    "name": "ipython",
    "version": 3
   },
   "file_extension": ".py",
   "mimetype": "text/x-python",
   "name": "python",
   "nbconvert_exporter": "python",
   "pygments_lexer": "ipython3",
   "version": "3.10.0"
  }
 },
 "nbformat": 4,
 "nbformat_minor": 5
}
